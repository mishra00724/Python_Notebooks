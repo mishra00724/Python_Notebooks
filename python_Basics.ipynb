{
 "cells": [
  {
   "attachments": {},
   "cell_type": "markdown",
   "metadata": {},
   "source": [
    "# What is Python?\n",
    "Python is a popular Programming language. It was created by **Guido Van Rossum** in 1991.  \n",
    "## What are the Python Use-Cases and Benefits over other programming languages?\n",
    "It's a general purpose programming language which means It can be used to write programs for almost any problem.\n",
    "\n",
    "Here are the few examples of where python is used in current IT industry:\n",
    "\n",
    "1. Python can be used on a server to create web applications.\n",
    "2. Python can be used alongside software to create workflows.\n",
    "3. Python can connect to database systems. It can also read and modify files.\n",
    "4. Python can be used to handle big data and perform complex mathematics.\n",
    "5. Python can be used for rapid prototyping, or for production-ready software development.\n",
    "\n",
    "A Little More about PYTHON :\n",
    "\n",
    "- Python is an Interpreted Language , which can save you considerable time during program development because no compilation and linking is necessary.\n",
    "- Python allows you to split your program into modules that can be reused in other python programs OR you can use a large collection of modules in your programs as per your needs like I/O , system calls , sockets etc.\n",
    "- \n"
   ]
  },
  {
   "cell_type": "code",
   "execution_count": 2,
   "metadata": {},
   "outputs": [
    {
     "name": "stdout",
     "output_type": "stream",
     "text": [
      "Satyam Bora, An Artist\n"
     ]
    }
   ],
   "source": [
    "## First line of code in python\n",
    "print(\"Satyam Bora, An Artist\")"
   ]
  },
  {
   "attachments": {},
   "cell_type": "markdown",
   "metadata": {},
   "source": [
    "## Python Indentation\n"
   ]
  },
  {
   "cell_type": "code",
   "execution_count": 4,
   "metadata": {},
   "outputs": [
    {
     "name": "stdout",
     "output_type": "stream",
     "text": [
      "Yes 5 is greater than 2\n",
      "1\n",
      "2\n",
      "3\n",
      "4\n",
      "5\n",
      "6\n",
      "7\n"
     ]
    }
   ],
   "source": [
    "if 5 > 2 :\n",
    "    print(\"Yes 5 is greater than 2\")\n",
    "\n",
    "items=[1,2,3,4,5,6,7]\n",
    "\n",
    "for item in items:\n",
    "    print(item)"
   ]
  },
  {
   "attachments": {},
   "cell_type": "markdown",
   "metadata": {},
   "source": [
    "## Python Variables\n"
   ]
  },
  {
   "cell_type": "code",
   "execution_count": 25,
   "metadata": {},
   "outputs": [
    {
     "name": "stdout",
     "output_type": "stream",
     "text": [
      "<class 'int'>\n",
      "<class 'str'>\n",
      "<class 'int'>\n",
      "3 3 4\n"
     ]
    }
   ],
   "source": [
    "#Numeric Datatype\n",
    "x = 5 \n",
    "print (type(x))\n",
    "\n",
    "## Example of implicit Type Casting\n",
    "\n",
    "#String datatype\n",
    "x = \"NEO4REEL\"\n",
    "print(type(x))\n",
    "\n",
    "##Example of explicit Type Casting\n",
    "a = int(1.12345)\n",
    "print(type(a))\n",
    "b = float(2.0)\n",
    "c = str(\"SpidyShivam\")\n",
    "# d = '3'\n",
    "d = str(3)\n",
    "\n",
    "e = 3\n",
    "f= e + a\n",
    "print(d ,e ,f )\n"
   ]
  },
  {
   "attachments": {},
   "cell_type": "markdown",
   "metadata": {},
   "source": [
    "## Variable Naming Convention\n",
    "- A variable name must start with a letter or the underscore character\n",
    "- A variable name cannot start with a number\n",
    "- A variable name can only contain alpha-numeric characters and underscores (A-z, 0-9, and _ )\n",
    "- Variable names are **case-sensitive **(age, Age and AGE are three different variables)\n",
    "- A variable name cannot be any of the Python keywords.\n"
   ]
  },
  {
   "cell_type": "code",
   "execution_count": 39,
   "metadata": {},
   "outputs": [
    {
     "name": "stdout",
     "output_type": "stream",
     "text": [
      "Sanji Neo SlimShady\n",
      "Apple Banana Cherry\n"
     ]
    }
   ],
   "source": [
    "## Many values to Multiple Variables\n",
    "x, y, z = \"Sanji\",\"Neo\",\"SlimShady\"\n",
    "print(x,y,z)\n",
    "\n",
    "\n",
    "## Unpack a collection\n",
    "fruits = [\"Apple\",\"Banana\",\"Cherry\"]\n",
    "x,y,z = fruits\n",
    "print(x,y,z)"
   ]
  },
  {
   "cell_type": "code",
   "execution_count": null,
   "metadata": {},
   "outputs": [],
   "source": []
  }
 ],
 "metadata": {
  "kernelspec": {
   "display_name": "Python 3",
   "language": "python",
   "name": "python3"
  },
  "language_info": {
   "codemirror_mode": {
    "name": "ipython",
    "version": 3
   },
   "file_extension": ".py",
   "mimetype": "text/x-python",
   "name": "python",
   "nbconvert_exporter": "python",
   "pygments_lexer": "ipython3",
   "version": "3.10.13"
  },
  "orig_nbformat": 4
 },
 "nbformat": 4,
 "nbformat_minor": 2
}
